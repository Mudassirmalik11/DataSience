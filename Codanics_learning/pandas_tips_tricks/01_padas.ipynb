{
 "cells": [
  {
   "cell_type": "code",
   "execution_count": 8,
   "id": "d6732c4c",
   "metadata": {},
   "outputs": [],
   "source": [
    "import pandas as pd\n",
    "\n",
    "# Now read the data from a csv file assign to df mean data frame\n",
    "df = pd.read_csv('./data/data.csv')\n",
    "\n",
    "\n"
   ]
  },
  {
   "cell_type": "code",
   "execution_count": 13,
   "id": "a8ec29e8",
   "metadata": {},
   "outputs": [],
   "source": [
    "# Write the data into new file of excel\n",
    "df.to_excel('./data/data.xlsx')\n"
   ]
  },
  {
   "cell_type": "markdown",
   "id": "b67addfe",
   "metadata": {},
   "source": [
    "# pandas tips"
   ]
  },
  {
   "cell_type": "code",
   "execution_count": 14,
   "id": "7a892c69",
   "metadata": {},
   "outputs": [
    {
     "name": "stdout",
     "output_type": "stream",
     "text": [
      "     PROVINCE                   DIVISION                   DISTRICT  \\\n",
      "0      PUNJAB        BAHAWALPUR DIVISION      BAHAWALNAGAR DISTRICT   \n",
      "1      PUNJAB        BAHAWALPUR DIVISION      BAHAWALNAGAR DISTRICT   \n",
      "2      PUNJAB        BAHAWALPUR DIVISION      BAHAWALNAGAR DISTRICT   \n",
      "3      PUNJAB        BAHAWALPUR DIVISION      BAHAWALNAGAR DISTRICT   \n",
      "4      PUNJAB        BAHAWALPUR DIVISION      BAHAWALNAGAR DISTRICT   \n",
      "..        ...                        ...                        ...   \n",
      "523  KPK/FATA  DERA ISMAIL KHAN DIVISION  SOUTH WAZIRISTAN DISTRICT   \n",
      "524  KPK/FATA  DERA ISMAIL KHAN DIVISION  SOUTH WAZIRISTAN DISTRICT   \n",
      "525  KPK/FATA  DERA ISMAIL KHAN DIVISION  SOUTH WAZIRISTAN DISTRICT   \n",
      "526  KPK/FATA  DERA ISMAIL KHAN DIVISION  SOUTH WAZIRISTAN DISTRICT   \n",
      "527  KPK/FATA  DERA ISMAIL KHAN DIVISION  SOUTH WAZIRISTAN DISTRICT   \n",
      "\n",
      "            SUB DIVISION  AREA (sq.km)  ALL SEXES (RURAL)  MALE (RURAL)  \\\n",
      "0    BAHAWALNAGAR TEHSIL        1729.0             619550        316864   \n",
      "1       CHISHTIAN TEHSIL        1500.0             540342        273788   \n",
      "2      FORT ABBAS TEHSIL        2536.0             361240        182655   \n",
      "3      HAROONABAD TEHSIL        1295.0             382115        192278   \n",
      "4     MINCHINABAD TEHSIL        1818.0             452723        231506   \n",
      "..                   ...           ...                ...           ...   \n",
      "523     SARAROGHA TEHSIL         813.0              98180         51479   \n",
      "524      SERWEKAI TEHSIL         398.0              54540         28695   \n",
      "525        TIARZA TEHSIL         734.0              45156         23649   \n",
      "526    TOI KHULLA TEHSIL         567.0              50413         27462   \n",
      "527          WANA TEHSIL        2315.0             153156         81342   \n",
      "\n",
      "     FEMALE (RURAL)  TRANSGENDER (RURAL)  SEX RATIO (RURAL)  ...  \\\n",
      "0            302644                   42             104.70  ...   \n",
      "1            266500                   54             102.73  ...   \n",
      "2            178541                   44             102.30  ...   \n",
      "3            189808                   29             101.30  ...   \n",
      "4            221178                   39             104.67  ...   \n",
      "..              ...                  ...                ...  ...   \n",
      "523           46694                    7             110.25  ...   \n",
      "524           25844                    1             111.03  ...   \n",
      "525           21507                    0             109.96  ...   \n",
      "526           22947                    4             119.68  ...   \n",
      "527           71796                   18             113.30  ...   \n",
      "\n",
      "     POPULATION 1998 (RURAL)  ANNUAL GROWTH RATE (RURAL)  ALL SEXES (URBAN)  \\\n",
      "0                     407768                        2.22             193840   \n",
      "1                     395983                        1.65             149424   \n",
      "2                     250959                        1.93              61528   \n",
      "3                     297343                        1.33             142600   \n",
      "4                     316593                        1.90              72294   \n",
      "..                       ...                         ...                ...   \n",
      "523                    72063                        1.64                  0   \n",
      "524                    31472                        2.93                  0   \n",
      "525                    37708                        0.95                  0   \n",
      "526                    36508                        1.71                  0   \n",
      "527                    90772                        2.79                  0   \n",
      "\n",
      "     MALE (URBAN)  FEMALE (URBAN)  TRANSGENDER (URBAN)  SEX RATIO (URBAN)  \\\n",
      "0           98391           95402                   47             103.13   \n",
      "1           75546           73851                   27             102.30   \n",
      "2           31360           30150                   18             104.01   \n",
      "3           71345           71236                   19             100.15   \n",
      "4           36694           35590                   10             103.10   \n",
      "..            ...             ...                  ...                ...   \n",
      "523             0               0                    0               0.00   \n",
      "524             0               0                    0               0.00   \n",
      "525             0               0                    0               0.00   \n",
      "526             0               0                    0               0.00   \n",
      "527             0               0                    0               0.00   \n",
      "\n",
      "     AVG HOUSEHOLD SIZE (URBAN)  POPULATION 1998 (URBAN)  \\\n",
      "0                          6.02                   133785   \n",
      "1                          6.01                   102287   \n",
      "2                          6.00                    34637   \n",
      "3                          6.02                    84424   \n",
      "4                          6.34                    37668   \n",
      "..                          ...                      ...   \n",
      "523                        0.00                        0   \n",
      "524                        0.00                        0   \n",
      "525                        0.00                        0   \n",
      "526                        0.00                        0   \n",
      "527                        0.00                        0   \n",
      "\n",
      "     ANNUAL GROWTH RATE (URBAN)  \n",
      "0                          1.97  \n",
      "1                          2.01  \n",
      "2                          3.06  \n",
      "3                          2.79  \n",
      "4                          3.48  \n",
      "..                          ...  \n",
      "523                        0.00  \n",
      "524                        0.00  \n",
      "525                        0.00  \n",
      "526                        0.00  \n",
      "527                        0.00  \n",
      "\n",
      "[528 rows x 21 columns]\n"
     ]
    }
   ],
   "source": [
    "# print the variable or data in terminal\n",
    "print(df)"
   ]
  },
  {
   "cell_type": "code",
   "execution_count": 15,
   "id": "2dd1c02d",
   "metadata": {},
   "outputs": [
    {
     "name": "stdout",
     "output_type": "stream",
     "text": [
      "<class 'pandas.core.frame.DataFrame'>\n",
      "RangeIndex: 528 entries, 0 to 527\n",
      "Data columns (total 21 columns):\n",
      " #   Column                      Non-Null Count  Dtype  \n",
      "---  ------                      --------------  -----  \n",
      " 0   PROVINCE                    528 non-null    object \n",
      " 1   DIVISION                    528 non-null    object \n",
      " 2   DISTRICT                    528 non-null    object \n",
      " 3   SUB DIVISION                528 non-null    object \n",
      " 4   AREA (sq.km)                528 non-null    float64\n",
      " 5   ALL SEXES (RURAL)           528 non-null    int64  \n",
      " 6   MALE (RURAL)                528 non-null    int64  \n",
      " 7   FEMALE (RURAL)              528 non-null    int64  \n",
      " 8   TRANSGENDER (RURAL)         528 non-null    int64  \n",
      " 9   SEX RATIO (RURAL)           528 non-null    float64\n",
      " 10  AVG HOUSEHOLD SIZE (RURAL)  528 non-null    float64\n",
      " 11  POPULATION 1998 (RURAL)     528 non-null    int64  \n",
      " 12  ANNUAL GROWTH RATE (RURAL)  528 non-null    float64\n",
      " 13  ALL SEXES (URBAN)           528 non-null    int64  \n",
      " 14  MALE (URBAN)                528 non-null    int64  \n",
      " 15  FEMALE (URBAN)              528 non-null    int64  \n",
      " 16  TRANSGENDER (URBAN)         528 non-null    int64  \n",
      " 17  SEX RATIO (URBAN)           528 non-null    float64\n",
      " 18  AVG HOUSEHOLD SIZE (URBAN)  528 non-null    float64\n",
      " 19  POPULATION 1998 (URBAN)     528 non-null    int64  \n",
      " 20  ANNUAL GROWTH RATE (URBAN)  528 non-null    float64\n",
      "dtypes: float64(7), int64(10), object(4)\n",
      "memory usage: 86.8+ KB\n"
     ]
    }
   ],
   "source": [
    "# how the data looks like\n",
    "df.info()"
   ]
  }
 ],
 "metadata": {
  "kernelspec": {
   "display_name": "python_eda",
   "language": "python",
   "name": "python3"
  },
  "language_info": {
   "codemirror_mode": {
    "name": "ipython",
    "version": 3
   },
   "file_extension": ".py",
   "mimetype": "text/x-python",
   "name": "python",
   "nbconvert_exporter": "python",
   "pygments_lexer": "ipython3",
   "version": "3.11.0"
  }
 },
 "nbformat": 4,
 "nbformat_minor": 5
}
